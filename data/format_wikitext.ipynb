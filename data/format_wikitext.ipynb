{
 "cells": [
  {
   "cell_type": "code",
   "execution_count": 8,
   "metadata": {},
   "outputs": [],
   "source": [
    "import random"
   ]
  },
  {
   "cell_type": "code",
   "execution_count": 9,
   "metadata": {},
   "outputs": [],
   "source": [
    "def replace_characters_with_token(input_path, output_path, replacement_token, percentage_to_replace):\n",
    "    # Read the contents of the input file\n",
    "    with open(input_path, 'r', encoding='utf-8') as file:\n",
    "        text_data = file.read()\n",
    "\n",
    "    # Calculate the number of characters to replace\n",
    "    total_characters = len(text_data)\n",
    "    characters_to_replace = int(percentage_to_replace / 100 * total_characters)\n",
    "\n",
    "    # Create a list of indices to replace\n",
    "    indices_to_replace = random.sample(range(total_characters), characters_to_replace)\n",
    "\n",
    "    # Convert the text to a list of characters for easy replacement\n",
    "    text_list = list(text_data)\n",
    "\n",
    "    # Replace the selected characters with the replacement token\n",
    "    for index in indices_to_replace:\n",
    "        text_list[index] = replacement_token\n",
    "\n",
    "    # Join the characters back into a string\n",
    "    modified_text = ''.join(text_list)\n",
    "\n",
    "    # Write the modified text to the output file\n",
    "    with open(output_path, 'w', encoding='utf-8') as output_file:\n",
    "        output_file.write(modified_text)\n",
    "\n"
   ]
  },
  {
   "cell_type": "code",
   "execution_count": 10,
   "metadata": {},
   "outputs": [],
   "source": [
    "#create masked files where 2% of chars are replaces with [MASK]\n",
    "files = ['test', 'train', 'valid']\n",
    "in_path = 'original/wiki.'\n",
    "out_path = 'masked/wiki.'\n",
    "p = 2\n",
    "mask_token = '[MASK]'\n",
    "\n",
    "for file in files:\n",
    "    replace_characters_with_token(in_path + file + '.raw', out_path + file + '.txt', mask_token, p)\n",
    "\n"
   ]
  },
  {
   "cell_type": "code",
   "execution_count": null,
   "metadata": {},
   "outputs": [],
   "source": [
    "#quick check to make sure this worked\n",
    "with open('masked/wiki.test.txt', 'r', encoding='utf-8') as file:\n",
    "    text_data = file.read()\n",
    "\n",
    "    masked_total_chars = len(text_data)\n",
    "    occurrences = text_data.count('[MASK]')\n",
    "\n",
    "\n",
    "\n",
    "with open('original/wiki.test.raw', 'r', encoding='utf-8') as file:\n",
    "    text_data = file.read()\n",
    "\n",
    "    # Calculate the number of characters to replace\n",
    "    og_total_characters = len(text_data)\n",
    "    characters_to_replace = int(2 / 100 * og_total_characters)\n",
    "\n",
    "\n",
    "if characters_to_replace != occurrences:\n",
    "    raise Exception(f'number of masked tokens ({occurrences}) != {characters_to_replace}')\n",
    "\n",
    "true_num_chars = masked_total_chars - (occurrences * 5)\n",
    "if og_total_characters != true_num_chars:\n",
    "    raise Exception(f'number of original chars ({og_total_characters}) != masked num chars ({true_num_chars})')"
   ]
  }
 ],
 "metadata": {
  "kernelspec": {
   "display_name": "Python 3",
   "language": "python",
   "name": "python3"
  },
  "language_info": {
   "codemirror_mode": {
    "name": "ipython",
    "version": 3
   },
   "file_extension": ".py",
   "mimetype": "text/x-python",
   "name": "python",
   "nbconvert_exporter": "python",
   "pygments_lexer": "ipython3",
   "version": "3.9.13"
  }
 },
 "nbformat": 4,
 "nbformat_minor": 2
}
