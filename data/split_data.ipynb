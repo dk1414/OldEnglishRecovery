{
 "cells": [
  {
   "cell_type": "code",
   "execution_count": 4,
   "metadata": {},
   "outputs": [],
   "source": [
    "import os\n",
    "\n",
    "def split_file(input_file, output_prefix):\n",
    "    with open(input_file, 'r') as f:\n",
    "        # Count the total number of lines in the input file\n",
    "        total_lines = sum(1 for _ in f)\n",
    "\n",
    "        # Calculate the number of lines per file\n",
    "        lines_per_file = total_lines // 4\n",
    "        f.seek(0)  # Reset file pointer\n",
    "\n",
    "        # Split the file into chunks\n",
    "        for i in range(4):\n",
    "            with open(f\"{output_prefix}{i+1}-4.txt\", 'w') as out_file:\n",
    "                for _ in range(lines_per_file):\n",
    "                    line = f.readline()\n",
    "                    if line:\n",
    "                        out_file.write(line)\n",
    "\n",
    "\n"
   ]
  },
  {
   "cell_type": "code",
   "execution_count": 5,
   "metadata": {},
   "outputs": [],
   "source": [
    "input_file = \"newtraincorpus.txt\"  \n",
    "output_prefix = \"newtraincorpus\"    \n",
    "\n",
    "split_file(input_file, output_prefix)"
   ]
  }
 ],
 "metadata": {
  "kernelspec": {
   "display_name": "pytorchCUDA",
   "language": "python",
   "name": "python3"
  },
  "language_info": {
   "codemirror_mode": {
    "name": "ipython",
    "version": 3
   },
   "file_extension": ".py",
   "mimetype": "text/x-python",
   "name": "python",
   "nbconvert_exporter": "python",
   "pygments_lexer": "ipython3",
   "version": "3.10.13"
  }
 },
 "nbformat": 4,
 "nbformat_minor": 2
}
