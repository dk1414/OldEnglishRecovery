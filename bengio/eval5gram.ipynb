{
 "cells": [
  {
   "cell_type": "code",
   "execution_count": 1,
   "metadata": {},
   "outputs": [
    {
     "name": "stdout",
     "output_type": "stream",
     "text": [
      "77363\n",
      "9418\n"
     ]
    }
   ],
   "source": [
    "#load wikitext data\n",
    "\n",
    "train = []\n",
    "test = []\n",
    "\n",
    "train_file_path = '../Srilm/newtraincorpus.txt'\n",
    "test_file_path = '../Srilm/newtestcorpus.txt'\n",
    "\n",
    "with open(train_file_path, 'r', encoding='utf-8') as file:\n",
    "    for line in file:\n",
    "            # Process each line as a sentence\n",
    "            words = (line.strip().split())\n",
    "            train.append(words)\n",
    "\n",
    "with open(test_file_path, 'r', encoding='utf-8') as file:\n",
    "    for line in file:\n",
    "            # Process each line as a sentence\n",
    "            words = (line.strip().split())\n",
    "            test.append(words)\n",
    "\n",
    "print(len(train))\n",
    "print(len(test))"
   ]
  },
  {
   "cell_type": "code",
   "execution_count": 14,
   "metadata": {},
   "outputs": [
    {
     "name": "stdout",
     "output_type": "stream",
     "text": [
      "19114\n"
     ]
    }
   ],
   "source": [
    "#create vocabulary\n",
    "\n",
    "\n",
    "UNK_symbol = \"<UNK>\"\n",
    "vocab = set([UNK_symbol])\n",
    "\n",
    "\n",
    "\n",
    "# create term frequency of the words\n",
    "words_term_frequency_train = {}\n",
    "for doc in train:\n",
    "    for word in doc:\n",
    "        # this will calculate term frequency\n",
    "        # since we are taking all words now\n",
    "        words_term_frequency_train[word] = words_term_frequency_train.get(word,0) + 1\n",
    "\n",
    "# create vocabulary\n",
    "for doc in train:\n",
    "    for word in doc:\n",
    "        if words_term_frequency_train.get(word,0) >= 5:\n",
    "            vocab.add(word)\n",
    "\n",
    "# remove \"@-@\" from vocab\n",
    "vocab.remove(\"@-@\")\n",
    "\n",
    "print(len(vocab))"
   ]
  },
  {
   "cell_type": "code",
   "execution_count": 15,
   "metadata": {},
   "outputs": [
    {
     "name": "stdout",
     "output_type": "stream",
     "text": [
      "(1333059, 4)\n",
      "(1333059, 1)\n",
      "(156022, 4)\n",
      "(156022, 1)\n"
     ]
    }
   ],
   "source": [
    "#create 5-grams\n",
    "\n",
    "import numpy as np\n",
    "# create required lists\n",
    "x_train = []\n",
    "y_train = []\n",
    "\n",
    "x_test = []\n",
    "y_test = []\n",
    "\n",
    "\n",
    "import pickle\n",
    "\n",
    "# Load wordtoid mappings\n",
    "with open(\"word2idmaps/5gram.pkl\", 'rb') as f:\n",
    "    word_to_id_mappings = pickle.load(f)\n",
    "\n",
    "# function to get id for a given word\n",
    "# return <UNK> id if not found\n",
    "def get_id_of_word(word):\n",
    "    unknown_word_id = word_to_id_mappings['<UNK>']\n",
    "    return word_to_id_mappings.get(word,unknown_word_id)\n",
    "\n",
    "# creating training and dev set\n",
    "for sentence in train:\n",
    "    for i,word in enumerate(sentence):\n",
    "        if i+4 >= len(sentence):\n",
    "            # sentence boundary reached\n",
    "            break\n",
    "        # convert word to id\n",
    "        x_extract = [get_id_of_word(word),get_id_of_word(sentence[i+1]),get_id_of_word(sentence[i+2]), get_id_of_word(sentence[i+3])]\n",
    "        y_extract = [get_id_of_word(sentence[i+4])]\n",
    "\n",
    "        x_train.append(x_extract)\n",
    "        y_train.append(y_extract)\n",
    "\n",
    "for sentence in test:\n",
    "    for i,word in enumerate(sentence):\n",
    "        if i+4 >= len(sentence):\n",
    "            # sentence boundary reached\n",
    "            # ignoring sentence less than 3 words\n",
    "            break\n",
    "        # convert word to id\n",
    "        x_extract = [get_id_of_word(word),get_id_of_word(sentence[i+1]),get_id_of_word(sentence[i+2]), get_id_of_word(sentence[i+3])]\n",
    "        y_extract = [get_id_of_word(sentence[i+4])]\n",
    "\n",
    "        x_test.append(x_extract)\n",
    "        y_test.append(y_extract)\n",
    "  \n",
    "\n",
    "# making numpy arrays\n",
    "x_train = np.array(x_train)\n",
    "y_train = np.array(y_train)\n",
    "x_test = np.array(x_test)\n",
    "y_test = np.array(y_test)  \n",
    "  \n",
    "print(x_train.shape)\n",
    "print(y_train.shape)\n",
    "print(x_test.shape)\n",
    "print(y_test.shape)"
   ]
  },
  {
   "cell_type": "code",
   "execution_count": 16,
   "metadata": {},
   "outputs": [],
   "source": [
    "# load libraries\n",
    "import torch\n",
    "import multiprocessing\n",
    "from torch import nn\n",
    "import torch.nn.functional as F\n",
    "import torch.optim as optim\n",
    "from torch.utils.data import DataLoader\n",
    "import time"
   ]
  },
  {
   "cell_type": "code",
   "execution_count": 17,
   "metadata": {},
   "outputs": [],
   "source": [
    "# 5gramgram Neural Network Model\n",
    "class fiveGramNNmodel(nn.Module):\n",
    "\n",
    "    def __init__(self, vocab_size, embedding_dim, context_size, h):\n",
    "        super(fiveGramNNmodel, self).__init__()\n",
    "        self.context_size = context_size\n",
    "        self.embedding_dim = embedding_dim\n",
    "        self.embeddings = nn.Embedding(vocab_size, embedding_dim)\n",
    "        self.linear1 = nn.Linear(context_size * embedding_dim, h)\n",
    "        self.linear2 = nn.Linear(h, vocab_size, bias = False)\n",
    "\n",
    "    def forward(self, inputs):\n",
    "        # compute x': concatenation of x1 and x2 embeddings\n",
    "        embeds = self.embeddings(inputs).view((-1,self.context_size * self.embedding_dim))\n",
    "        # compute h: tanh(W_1.x' + b)\n",
    "        out = torch.tanh(self.linear1(embeds))\n",
    "        # compute W_2.h\n",
    "        out = self.linear2(out)\n",
    "        # compute y: log_softmax(W_2.h)\n",
    "        log_probs = F.log_softmax(out, dim=1)\n",
    "        # return log probabilities\n",
    "        # BATCH_SIZE x len(vocab)\n",
    "        return log_probs"
   ]
  },
  {
   "cell_type": "code",
   "execution_count": 18,
   "metadata": {},
   "outputs": [
    {
     "name": "stdout",
     "output_type": "stream",
     "text": [
      "cuda\n",
      "--- Creating training and dev dataloaders with 256 batch size ---\n"
     ]
    }
   ],
   "source": [
    "# create parameters\n",
    "gpu = 0 \n",
    "# word vectors size\n",
    "EMBEDDING_DIM = 200\n",
    "CONTEXT_SIZE = 4\n",
    "BATCH_SIZE = 256\n",
    "# hidden units\n",
    "H = 100\n",
    "torch.manual_seed(13013)\n",
    "\n",
    "# check if gpu is available\n",
    "device = 'cuda' if torch.cuda.is_available() else 'cpu'\n",
    "print(device)\n",
    "available_workers = multiprocessing.cpu_count()\n",
    "\n",
    "print(\"--- Creating training and dev dataloaders with {} batch size ---\".format(BATCH_SIZE))\n",
    "train_set = np.concatenate((x_train, y_train), axis=1)\n",
    "test_set = np.concatenate((x_test, y_test), axis=1)\n",
    "train_loader = DataLoader(train_set, batch_size = BATCH_SIZE, num_workers = available_workers)\n",
    "test_loader = DataLoader(test_set, batch_size = BATCH_SIZE, num_workers = available_workers)"
   ]
  },
  {
   "cell_type": "code",
   "execution_count": 19,
   "metadata": {},
   "outputs": [
    {
     "data": {
      "text/plain": [
       "fiveGramNNmodel(\n",
       "  (embeddings): Embedding(19114, 200)\n",
       "  (linear1): Linear(in_features=800, out_features=100, bias=True)\n",
       "  (linear2): Linear(in_features=100, out_features=19114, bias=False)\n",
       ")"
      ]
     },
     "execution_count": 19,
     "metadata": {},
     "output_type": "execute_result"
    }
   ],
   "source": [
    "model = fiveGramNNmodel(len(vocab), EMBEDDING_DIM, CONTEXT_SIZE, H)\n",
    "model.load_state_dict(torch.load(\"models/best_fivegram_model_3.dat\"))\n",
    "model.to(device)"
   ]
  },
  {
   "cell_type": "code",
   "execution_count": 20,
   "metadata": {},
   "outputs": [],
   "source": [
    "# helper function to get accuracy from log probabilities\n",
    "def get_accuracy_from_log_probs(log_probs, labels):\n",
    "    probs = torch.exp(log_probs)\n",
    "    predicted_label = torch.argmax(probs, dim=1)\n",
    "    acc = (predicted_label == labels).float().mean()\n",
    "    return acc, predicted_label\n",
    "\n",
    "# helper function to evaluate model on dev data\n",
    "def evaluate(model, criterion, dataloader, gpu):\n",
    "    model.eval()\n",
    "\n",
    "    mean_acc, mean_loss = 0, 0\n",
    "    count = 0\n",
    "    losses = []\n",
    "    preds = []\n",
    "    true = []\n",
    "    with torch.no_grad():\n",
    "        dev_st = time.time()\n",
    "        for it, data_tensor in enumerate(dataloader):\n",
    "            context_tensor = data_tensor[:,0:4].type(torch.LongTensor)\n",
    "            target_tensor = data_tensor[:,4].type(torch.LongTensor)\n",
    "            context_tensor, target_tensor = context_tensor.cuda(gpu), target_tensor.cuda(gpu)\n",
    "            log_probs = model(context_tensor)\n",
    "            loss = criterion(log_probs, target_tensor)\n",
    "            mean_loss += loss.item()\n",
    "\n",
    "            acc, p = get_accuracy_from_log_probs(log_probs, target_tensor)\n",
    "            preds.append(p.tolist())\n",
    "            true.append(target_tensor.tolist())\n",
    "            mean_acc += acc\n",
    "            count += 1\n",
    "\n",
    "                \n",
    "            if it % 1000 == 0: \n",
    "                print(\"Dev Iteration {} complete. Mean Loss: {}; Mean Acc:{}; Time taken (s): {}\".format(it, mean_loss / count, mean_acc / count, (time.time()-dev_st)))\n",
    "                dev_st = time.time()\n",
    "                losses.append(loss.item())\n",
    "    return mean_acc / count, mean_loss / count, losses, preds, true"
   ]
  },
  {
   "cell_type": "code",
   "execution_count": 21,
   "metadata": {},
   "outputs": [
    {
     "name": "stdout",
     "output_type": "stream",
     "text": [
      "Dev Iteration 0 complete. Mean Loss: 5.9488115310668945; Mean Acc:0.21484375; Time taken (s): 21.459734439849854\n"
     ]
    }
   ],
   "source": [
    "# Using negative log-likelihood loss\n",
    "loss_function = nn.NLLLoss()\n",
    "\n",
    "\n",
    "# load it to gpu\n",
    "model.cuda(gpu)\n",
    "\n",
    "\n",
    "\n",
    "\n",
    "dev_acc, dev_loss, e_losses, preds, true = evaluate(model, loss_function, test_loader, gpu)\n"
   ]
  },
  {
   "cell_type": "code",
   "execution_count": 22,
   "metadata": {},
   "outputs": [
    {
     "data": {
      "text/plain": [
       "156022"
      ]
     },
     "execution_count": 22,
     "metadata": {},
     "output_type": "execute_result"
    }
   ],
   "source": [
    "true = [item for sublist in true for item in sublist]\n",
    "len(true)"
   ]
  },
  {
   "cell_type": "code",
   "execution_count": 23,
   "metadata": {},
   "outputs": [
    {
     "data": {
      "text/plain": [
       "156022"
      ]
     },
     "execution_count": 23,
     "metadata": {},
     "output_type": "execute_result"
    }
   ],
   "source": [
    "preds = [item for sublist in preds for item in sublist]\n",
    "len(preds)"
   ]
  },
  {
   "cell_type": "code",
   "execution_count": 24,
   "metadata": {},
   "outputs": [],
   "source": [
    "#count num correct for each different class\n",
    "id_to_correct = {}\n",
    "id_to_total = {}\n",
    "\n",
    "for i, pred in enumerate(preds):\n",
    "    t = true[i]\n",
    "\n",
    "    if t in id_to_total:\n",
    "        id_to_total[t] += 1\n",
    "    else:\n",
    "        id_to_total[t] = 1\n",
    "\n",
    "    if t == pred:\n",
    "        if pred in id_to_correct:\n",
    "            id_to_correct[pred] += 1\n",
    "        else:\n",
    "            id_to_correct[pred] = 1\n",
    "    else:\n",
    "        if t not in id_to_correct:\n",
    "            id_to_correct[t] = 0\n"
   ]
  },
  {
   "cell_type": "code",
   "execution_count": 25,
   "metadata": {},
   "outputs": [],
   "source": [
    "#gonna plot accuracy vs how common it was in the training data\n",
    "\n",
    "id_to_word_mappings = {v: k for k, v in word_to_id_mappings.items()}\n",
    "\n",
    "accs = []\n",
    "freqs = []\n",
    "\n",
    "for id in id_to_correct:\n",
    "    acc = id_to_correct[id] / id_to_total[id]\n",
    "\n",
    "    #just gonna ignore unk\n",
    "    if id_to_word_mappings[id] != '<UNK>':\n",
    "\n",
    "        freq = words_term_frequency_train[id_to_word_mappings[id]]\n",
    "\n",
    "        accs.append(acc)\n",
    "        freqs.append(freq)\n",
    "    "
   ]
  },
  {
   "cell_type": "code",
   "execution_count": 26,
   "metadata": {},
   "outputs": [
    {
     "data": {
      "image/png": "[encoded data removed]",
      "text/plain": [
       "<Figure size 640x480 with 1 Axes>"
      ]
     },
     "metadata": {},
     "output_type": "display_data"
    }
   ],
   "source": [
    "import matplotlib.pyplot as plt\n",
    "\n",
    "# Plotting accuracy vs frequency as points\n",
    "plt.scatter(freqs, accs, marker='o')\n",
    "plt.xlabel('Train Frequency')\n",
    "plt.ylabel('Dev Accuracy')\n",
    "plt.title('Dev Accuracy vs Train Frequency')\n",
    "plt.grid(True)\n",
    "plt.show()"
   ]
  },
  {
   "cell_type": "code",
   "execution_count": 33,
   "metadata": {},
   "outputs": [
    {
     "data": {
      "image/png": "[encoded data removed]",
      "text/plain": [
       "<Figure size 640x480 with 1 Axes>"
      ]
     },
     "metadata": {},
     "output_type": "display_data"
    }
   ],
   "source": [
    "indices = [i for i,f in enumerate(freqs) if f < 1000]\n",
    "f_accs = [accs[i] for i in indices]\n",
    "f_freqs = [freqs[i] for i in indices]\n",
    "\n",
    "# Plotting accuracy vs frequency as points\n",
    "plt.scatter(f_freqs, f_accs, marker='o')\n",
    "plt.xlabel('Train Frequency')\n",
    "plt.ylabel('Dev Accuracy')\n",
    "plt.title('Dev Accuracy vs Train Frequency')\n",
    "plt.grid(True)\n",
    "plt.show()"
   ]
  }
 ],
 "metadata": {
  "kernelspec": {
   "display_name": "pytorchCUDA",
   "language": "python",
   "name": "python3"
  },
  "language_info": {
   "codemirror_mode": {
    "name": "ipython",
    "version": 3
   },
   "file_extension": ".py",
   "mimetype": "text/x-python",
   "name": "python",
   "nbconvert_exporter": "python",
   "pygments_lexer": "ipython3",
   "version": "3.10.13"
  }
 },
 "nbformat": 4,
 "nbformat_minor": 2
}
