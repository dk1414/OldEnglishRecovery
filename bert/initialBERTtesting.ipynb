{
 "cells": [
  {
   "cell_type": "code",
   "execution_count": 8,
   "metadata": {},
   "outputs": [
    {
     "name": "stderr",
     "output_type": "stream",
     "text": [
      "c:\\Users\\declan\\anaconda3\\envs\\pytorchCUDA\\lib\\site-packages\\tqdm\\auto.py:21: TqdmWarning: IProgress not found. Please update jupyter and ipywidgets. See https://ipywidgets.readthedocs.io/en/stable/user_install.html\n",
      "  from .autonotebook import tqdm as notebook_tqdm\n"
     ]
    }
   ],
   "source": [
    "from transformers import AutoTokenizer, BertForMaskedLM\n",
    "import torch\n",
    "import torch.nn.functional as F"
   ]
  },
  {
   "cell_type": "code",
   "execution_count": 9,
   "metadata": {},
   "outputs": [
    {
     "name": "stderr",
     "output_type": "stream",
     "text": [
      "Some weights of the model checkpoint at bert-base-cased were not used when initializing BertForMaskedLM: ['cls.seq_relationship.bias', 'bert.pooler.dense.weight', 'bert.pooler.dense.bias', 'cls.seq_relationship.weight']\n",
      "- This IS expected if you are initializing BertForMaskedLM from the checkpoint of a model trained on another task or with another architecture (e.g. initializing a BertForSequenceClassification model from a BertForPreTraining model).\n",
      "- This IS NOT expected if you are initializing BertForMaskedLM from the checkpoint of a model that you expect to be exactly identical (initializing a BertForSequenceClassification model from a BertForSequenceClassification model).\n"
     ]
    }
   ],
   "source": [
    "tokenizer = AutoTokenizer.from_pretrained(\"bert-base-cased\")\n",
    "bert = BertForMaskedLM.from_pretrained(\"bert-base-cased\")"
   ]
  },
  {
   "cell_type": "code",
   "execution_count": 87,
   "metadata": {},
   "outputs": [],
   "source": [
    "input_idx = tokenizer.encode(f\"T o n o r m a l i z e  t h e p r [MASK] b a b [MASK] l i t i e s o b t a i n e d f r o m B E R T , y o u c a n\")\n",
    "input_idx[0] = 1051\n",
    "logits = bert(torch.tensor([input_idx]))[0]\n",
    "probs = F.softmax(logits, dim=2)\n",
    "prediction = logits[0].argmax(dim=1)"
   ]
  },
  {
   "cell_type": "code",
   "execution_count": 88,
   "metadata": {},
   "outputs": [
    {
     "name": "stdout",
     "output_type": "stream",
     "text": [
      "[1056, 1051, 1050, 1051, 1054, 1049, 1037, 1048, 1045, 1062, 1041, 1056, 1044, 1041, 1052, 1054, 103, 1038, 1037, 1038, 103, 1048, 1045, 1056, 1045, 1041, 1055, 1051, 1038, 1056, 1037, 1045, 1050, 1041, 1040, 1042, 1054, 1051, 1049, 1038, 1041, 1054, 1056, 1010, 1061, 1051, 1057, 1039, 1037, 1050]\n"
     ]
    },
    {
     "data": {
      "text/plain": [
       "['o',\n",
       " 't',\n",
       " 'o',\n",
       " 'n',\n",
       " 'o',\n",
       " 'r',\n",
       " 'm',\n",
       " 'a',\n",
       " 'l',\n",
       " 'i',\n",
       " 'z',\n",
       " 'e',\n",
       " 't',\n",
       " 'h',\n",
       " 'e',\n",
       " 'p',\n",
       " 'r',\n",
       " '[MASK]',\n",
       " 'b',\n",
       " 'a',\n",
       " 'b',\n",
       " '[MASK]',\n",
       " 'l',\n",
       " 'i',\n",
       " 't',\n",
       " 'i',\n",
       " 'e',\n",
       " 's',\n",
       " 'o',\n",
       " 'b',\n",
       " 't',\n",
       " 'a',\n",
       " 'i',\n",
       " 'n',\n",
       " 'e',\n",
       " 'd',\n",
       " 'f',\n",
       " 'r',\n",
       " 'o',\n",
       " 'm',\n",
       " 'b',\n",
       " 'e',\n",
       " 'r',\n",
       " 't',\n",
       " ',',\n",
       " 'y',\n",
       " 'o',\n",
       " 'u',\n",
       " 'c',\n",
       " 'a',\n",
       " 'n',\n",
       " '[SEP]']"
      ]
     },
     "execution_count": 88,
     "metadata": {},
     "output_type": "execute_result"
    }
   ],
   "source": [
    "print(input_idx[1:-1])\n",
    "[tokenizer.decode(i) for i in input_idx]"
   ]
  },
  {
   "cell_type": "code",
   "execution_count": 91,
   "metadata": {},
   "outputs": [
    {
     "data": {
      "text/plain": [
       "torch.Size([1, 52, 30522])"
      ]
     },
     "execution_count": 91,
     "metadata": {},
     "output_type": "execute_result"
    }
   ],
   "source": [
    "logits.shape"
   ]
  },
  {
   "cell_type": "code",
   "execution_count": 90,
   "metadata": {},
   "outputs": [
    {
     "data": {
      "text/plain": [
       "tensor([1012, 1056, 1051, 1050, 1051, 1054, 1049, 1037, 1048, 1045, 1062, 1041,\n",
       "        1056, 1044, 1041, 1052, 1054, 1051, 1038, 1037, 1038, 1039, 1048, 1045,\n",
       "        1056, 1045, 1041, 1055, 1051, 1038, 1056, 1037, 1045, 1050, 1041, 1040,\n",
       "        1042, 1054, 1051, 1049, 1038, 1041, 1054, 1056, 1010, 1061, 1051, 1057,\n",
       "        1039, 1037, 1012, 1012])"
      ]
     },
     "execution_count": 90,
     "metadata": {},
     "output_type": "execute_result"
    }
   ],
   "source": [
    "prediction"
   ]
  },
  {
   "cell_type": "code",
   "execution_count": 93,
   "metadata": {},
   "outputs": [
    {
     "data": {
      "text/plain": [
       "'e'"
      ]
     },
     "execution_count": 93,
     "metadata": {},
     "output_type": "execute_result"
    }
   ],
   "source": [
    "tokenizer.decode(prediction[11])"
   ]
  },
  {
   "cell_type": "code",
   "execution_count": 89,
   "metadata": {},
   "outputs": [
    {
     "data": {
      "text/plain": [
       "'. t o n o r m a l i z e t h e p r o b a b c l i t i e s o b t a i n e d f r o m b e r t, y o u c a..'"
      ]
     },
     "execution_count": 89,
     "metadata": {},
     "output_type": "execute_result"
    }
   ],
   "source": [
    "tokenizer.decode(prediction)"
   ]
  },
  {
   "cell_type": "code",
   "execution_count": 1,
   "metadata": {},
   "outputs": [],
   "source": [
    "import sys\n",
    "sys.path.append('c:\\\\Users\\\\declan\\\\Documents\\\\OldEnglishRecovery')\n",
    "from LanguageModelHelper import LanguageModelHelper"
   ]
  },
  {
   "cell_type": "code",
   "execution_count": 2,
   "metadata": {},
   "outputs": [],
   "source": [
    "lm = LanguageModelHelper(file_path='../data/newtraincorpus.txt')"
   ]
  },
  {
   "cell_type": "code",
   "execution_count": 3,
   "metadata": {},
   "outputs": [],
   "source": [
    "d = lm.get_dataset()"
   ]
  },
  {
   "cell_type": "code",
   "execution_count": 4,
   "metadata": {},
   "outputs": [
    {
     "data": {
      "text/plain": [
       "77363"
      ]
     },
     "execution_count": 4,
     "metadata": {},
     "output_type": "execute_result"
    }
   ],
   "source": [
    "len(d)"
   ]
  },
  {
   "cell_type": "code",
   "execution_count": 4,
   "metadata": {},
   "outputs": [
    {
     "data": {
      "text/plain": [
       "['valkyria',\n",
       " 'of',\n",
       " 'the',\n",
       " 'battlefield',\n",
       " '<num>',\n",
       " 'commonly',\n",
       " 'referred',\n",
       " 'to',\n",
       " 'as',\n",
       " 'valkyria',\n",
       " 'chronicles',\n",
       " 'iii',\n",
       " 'outside',\n",
       " 'japan',\n",
       " 'is',\n",
       " 'a',\n",
       " 'tactical',\n",
       " 'role',\n",
       " '@-@',\n",
       " 'playing',\n",
       " 'video',\n",
       " 'game',\n",
       " 'developed',\n",
       " 'by',\n",
       " 'sega',\n",
       " 'and',\n",
       " 'media']"
      ]
     },
     "execution_count": 4,
     "metadata": {},
     "output_type": "execute_result"
    }
   ],
   "source": [
    "d[0]"
   ]
  },
  {
   "cell_type": "code",
   "execution_count": 11,
   "metadata": {},
   "outputs": [],
   "source": [
    "md, i = lm.get_masked_dataset(percent_masks_per_line=0.03)"
   ]
  },
  {
   "cell_type": "code",
   "execution_count": 12,
   "metadata": {},
   "outputs": [
    {
     "data": {
      "text/plain": [
       "['valkyria',\n",
       " 'of',\n",
       " 'the',\n",
       " 'battlefield',\n",
       " '<num>',\n",
       " 'commonly',\n",
       " 'referred',\n",
       " 'to',\n",
       " 'as',\n",
       " 'valkyria',\n",
       " 'c@ronicles',\n",
       " 'iii',\n",
       " 'outside',\n",
       " 'japan',\n",
       " 'is',\n",
       " 'a',\n",
       " 'tactical',\n",
       " 'role',\n",
       " '@-@',\n",
       " 'playin@',\n",
       " 'video',\n",
       " 'game',\n",
       " 'developed',\n",
       " '@y',\n",
       " 'sega',\n",
       " 'and',\n",
       " '@edia']"
      ]
     },
     "execution_count": 12,
     "metadata": {},
     "output_type": "execute_result"
    }
   ],
   "source": [
    "md[0]"
   ]
  },
  {
   "cell_type": "code",
   "execution_count": 10,
   "metadata": {},
   "outputs": [
    {
     "data": {
      "text/plain": [
       "[(0, 0, 7),\n",
       " (0, 1, 0),\n",
       " (0, 3, 0),\n",
       " (0, 3, 6),\n",
       " (0, 3, 7),\n",
       " (0, 3, 10),\n",
       " (0, 4, 0),\n",
       " (0, 5, 4),\n",
       " (0, 9, 2),\n",
       " (0, 9, 6)]"
      ]
     },
     "execution_count": 10,
     "metadata": {},
     "output_type": "execute_result"
    }
   ],
   "source": [
    "i[0:10]"
   ]
  },
  {
   "cell_type": "code",
   "execution_count": 22,
   "metadata": {},
   "outputs": [
    {
     "data": {
      "text/plain": [
       "['hulls', 'hills', 'halle', 'halls', 'holly']"
      ]
     },
     "execution_count": 22,
     "metadata": {},
     "output_type": "execute_result"
    }
   ],
   "source": [
    "lm.find_candidates('h@ll@')"
   ]
  },
  {
   "cell_type": "code",
   "execution_count": 21,
   "metadata": {},
   "outputs": [
    {
     "data": {
      "text/plain": [
       "(0, 8, 0)"
      ]
     },
     "execution_count": 21,
     "metadata": {},
     "output_type": "execute_result"
    }
   ],
   "source": [
    "i[0]"
   ]
  },
  {
   "cell_type": "code",
   "execution_count": 6,
   "metadata": {},
   "outputs": [
    {
     "data": {
      "text/plain": [
       "77320"
      ]
     },
     "execution_count": 6,
     "metadata": {},
     "output_type": "execute_result"
    }
   ],
   "source": [
    "len(md)"
   ]
  },
  {
   "cell_type": "code",
   "execution_count": 7,
   "metadata": {},
   "outputs": [
    {
     "data": {
      "text/plain": [
       "144896"
      ]
     },
     "execution_count": 7,
     "metadata": {},
     "output_type": "execute_result"
    }
   ],
   "source": [
    "len(i)"
   ]
  },
  {
   "cell_type": "code",
   "execution_count": 4,
   "metadata": {},
   "outputs": [
    {
     "data": {
      "text/plain": [
       "['valkyria',\n",
       " 'of',\n",
       " 'the',\n",
       " 'battlefield',\n",
       " '<num>',\n",
       " 'commonly',\n",
       " 'referred',\n",
       " '@o',\n",
       " 'as',\n",
       " 'valkyria',\n",
       " 'chronicles',\n",
       " 'iii',\n",
       " 'outside',\n",
       " 'japan',\n",
       " 'is',\n",
       " 'a',\n",
       " 'tactical',\n",
       " 'role',\n",
       " '@-@',\n",
       " 'playing',\n",
       " 'video',\n",
       " 'game',\n",
       " 'developed',\n",
       " 'by',\n",
       " 'sega',\n",
       " 'and',\n",
       " 'media']"
      ]
     },
     "execution_count": 4,
     "metadata": {},
     "output_type": "execute_result"
    }
   ],
   "source": [
    "md[0]"
   ]
  },
  {
   "cell_type": "code",
   "execution_count": 5,
   "metadata": {},
   "outputs": [],
   "source": [
    "new_md = md.copy()\n",
    "\n",
    "for index in i:\n",
    "    a,b = index[0], index[1]\n",
    "    new_md[a][b] = '[MASK]'"
   ]
  },
  {
   "cell_type": "code",
   "execution_count": 6,
   "metadata": {},
   "outputs": [
    {
     "data": {
      "text/plain": [
       "['valkyria',\n",
       " 'of',\n",
       " 'the',\n",
       " 'battlefield',\n",
       " '<num>',\n",
       " 'commonly',\n",
       " 'referred',\n",
       " '[MASK]',\n",
       " 'as',\n",
       " 'valkyria',\n",
       " 'chronicles',\n",
       " 'iii',\n",
       " 'outside',\n",
       " 'japan',\n",
       " 'is',\n",
       " 'a',\n",
       " 'tactical',\n",
       " 'role',\n",
       " '@-@',\n",
       " 'playing',\n",
       " 'video',\n",
       " 'game',\n",
       " 'developed',\n",
       " 'by',\n",
       " 'sega',\n",
       " 'and',\n",
       " 'media']"
      ]
     },
     "execution_count": 6,
     "metadata": {},
     "output_type": "execute_result"
    }
   ],
   "source": [
    "new_md[0]"
   ]
  },
  {
   "cell_type": "code",
   "execution_count": 35,
   "metadata": {},
   "outputs": [
    {
     "name": "stderr",
     "output_type": "stream",
     "text": [
      "Some weights of the model checkpoint at bert-base-uncased were not used when initializing BertForMaskedLM: ['bert.pooler.dense.bias', 'cls.seq_relationship.bias', 'bert.pooler.dense.weight', 'cls.seq_relationship.weight']\n",
      "- This IS expected if you are initializing BertForMaskedLM from the checkpoint of a model trained on another task or with another architecture (e.g. initializing a BertForSequenceClassification model from a BertForPreTraining model).\n",
      "- This IS NOT expected if you are initializing BertForMaskedLM from the checkpoint of a model that you expect to be exactly identical (initializing a BertForSequenceClassification model from a BertForSequenceClassification model).\n"
     ]
    }
   ],
   "source": [
    "from transformers import AutoTokenizer, BertForMaskedLM\n",
    "import torch\n",
    "import torch.nn.functional as F\n",
    "from torch.utils.data import Dataset\n",
    "from torch.utils.data import DataLoader\n",
    "\n",
    "from transformers import AutoTokenizer, BertForMaskedLM\n",
    "import torch\n",
    "import torch.nn.functional as F\n",
    "\n",
    "import sys\n",
    "sys.path.append('c:\\\\Users\\\\declan\\\\Documents\\\\OldEnglishRecovery')\n",
    "from LanguageModelHelper import LanguageModelHelper\n",
    "\n",
    "import numpy as np\n",
    "\n",
    "tokenizer = AutoTokenizer.from_pretrained(\"bert-base-uncased\")\n",
    "bert = BertForMaskedLM.from_pretrained(\"bert-base-uncased\")\n",
    "\n",
    "#load text and create vocabulary. Just going to say words need to be present at least 5 times to be in vocab\n",
    "lm = LanguageModelHelper(file_path='../data/newtraincorpus.txt', min_freq=5, unk_token = tokenizer.unk_token)\n",
    "\n",
    "device = torch.device(\"cuda\" if torch.cuda.is_available() else \"cpu\")\n",
    "bert.to(device)\n",
    "\n",
    "\n",
    "class BertDataset(Dataset):\n",
    "    def __init__(self, lm, mask_token, percent_masks_per_line=0.03):\n",
    "        super(BertDataset, self).__init__()\n",
    "        self.mask_token = mask_token\n",
    "        self.unmasked = lm.get_dataset()\n",
    "        self.masked, self.mask_indices = lm.get_masked_dataset(percent_masks_per_line)\n",
    "        self.mask_indices = set([(i[0], i[1]) for i in self.mask_indices]) #only need word level indices not char level\n",
    "\n",
    "        \n",
    "    def __len__(self):\n",
    "        return len(self.unmasked)\n",
    "    \n",
    "    def __getitem__(self, index):\n",
    "        \n",
    "        word_masked = self.unmasked[index].copy()\n",
    "        mask_indices = []\n",
    "\n",
    "        for j, word in enumerate(word_masked):\n",
    "            if (index,j) in self.mask_indices:\n",
    "                word_masked[j] = self.mask_token\n",
    "                mask_indices.append(j)\n",
    " \n",
    "\n",
    "        true = self.unmasked[index]\n",
    "        char_masked = self.masked[index]\n",
    "\n",
    "        return (word_masked, char_masked, true, mask_indices)\n",
    "    \n",
    "\n",
    "\n",
    "    \n",
    "\n"
   ]
  },
  {
   "cell_type": "code",
   "execution_count": 2,
   "metadata": {},
   "outputs": [],
   "source": [
    "dataset = BertDataset(lm,tokenizer.mask_token, percent_masks_per_line=0.03)"
   ]
  },
  {
   "cell_type": "code",
   "execution_count": 3,
   "metadata": {},
   "outputs": [],
   "source": [
    "for i in dataset:\n",
    "    a = i\n",
    "    break"
   ]
  },
  {
   "cell_type": "code",
   "execution_count": 4,
   "metadata": {},
   "outputs": [
    {
     "data": {
      "text/plain": [
       "(['valkyria',\n",
       "  'of',\n",
       "  'the',\n",
       "  'battlefield',\n",
       "  '<num>',\n",
       "  '[MASK]',\n",
       "  'referred',\n",
       "  'to',\n",
       "  'as',\n",
       "  'valkyria',\n",
       "  '[MASK]',\n",
       "  'iii',\n",
       "  '[MASK]',\n",
       "  '[MASK]',\n",
       "  'is',\n",
       "  'a',\n",
       "  'tactical',\n",
       "  'role',\n",
       "  '@-@',\n",
       "  'playing',\n",
       "  'video',\n",
       "  'game',\n",
       "  'developed',\n",
       "  'by',\n",
       "  'sega',\n",
       "  'and',\n",
       "  'media'],\n",
       " ['valkyria',\n",
       "  'of',\n",
       "  'the',\n",
       "  'battlefield',\n",
       "  '<num>',\n",
       "  'comm¿nly',\n",
       "  'referred',\n",
       "  'to',\n",
       "  'as',\n",
       "  'valkyria',\n",
       "  'chron¿cles',\n",
       "  'iii',\n",
       "  'outsi¿e',\n",
       "  'ja¿an',\n",
       "  'is',\n",
       "  'a',\n",
       "  'tactical',\n",
       "  'role',\n",
       "  '@-@',\n",
       "  'playing',\n",
       "  'video',\n",
       "  'game',\n",
       "  'developed',\n",
       "  'by',\n",
       "  'sega',\n",
       "  'and',\n",
       "  'media'],\n",
       " ['valkyria',\n",
       "  'of',\n",
       "  'the',\n",
       "  'battlefield',\n",
       "  '<num>',\n",
       "  'commonly',\n",
       "  'referred',\n",
       "  'to',\n",
       "  'as',\n",
       "  'valkyria',\n",
       "  'chronicles',\n",
       "  'iii',\n",
       "  'outside',\n",
       "  'japan',\n",
       "  'is',\n",
       "  'a',\n",
       "  'tactical',\n",
       "  'role',\n",
       "  '@-@',\n",
       "  'playing',\n",
       "  'video',\n",
       "  'game',\n",
       "  'developed',\n",
       "  'by',\n",
       "  'sega',\n",
       "  'and',\n",
       "  'media'],\n",
       " [5, 10, 12, 13])"
      ]
     },
     "execution_count": 4,
     "metadata": {},
     "output_type": "execute_result"
    }
   ],
   "source": [
    "a"
   ]
  },
  {
   "cell_type": "code",
   "execution_count": 37,
   "metadata": {},
   "outputs": [
    {
     "name": "stdout",
     "output_type": "stream",
     "text": [
      "cuda\n"
     ]
    }
   ],
   "source": [
    "print(device)"
   ]
  },
  {
   "cell_type": "code",
   "execution_count": 40,
   "metadata": {},
   "outputs": [
    {
     "name": "stdout",
     "output_type": "stream",
     "text": [
      "1.0968806979678476\n",
      "6.014289331864448\n"
     ]
    }
   ],
   "source": [
    "def perp_score(model, device, tokenizer, sentence):\n",
    "    tensor_input = tokenizer.encode(sentence, return_tensors='pt').to(device)\n",
    "    repeat_input = tensor_input.repeat(tensor_input.size(-1)-2, 1)\n",
    "    mask = torch.ones(tensor_input.size(-1) - 1, device=device).diag(1)[:-2]\n",
    "    masked_input = repeat_input.masked_fill(mask == 1, tokenizer.mask_token_id)\n",
    "    labels = repeat_input.masked_fill( masked_input != tokenizer.mask_token_id, -100)\n",
    "    with torch.inference_mode():\n",
    "        loss = model(masked_input, labels=labels).loss\n",
    "    return np.exp(loss.item())\n",
    "\n",
    "print(perp_score(sentence='London is the capital of Great Britain.', model=bert, device=device, tokenizer=tokenizer)) \n",
    "# 4.541251105675365\n",
    "print(perp_score(sentence='London is the capital of South America.', model=bert, device=device, tokenizer=tokenizer))"
   ]
  },
  {
   "cell_type": "code",
   "execution_count": 41,
   "metadata": {},
   "outputs": [],
   "source": [
    "def predict(model, tokenizer, lm, dataset):\n",
    "    c = 0\n",
    "    preds = []\n",
    "    true = []\n",
    "\n",
    "    for example in dataset:\n",
    "        \n",
    "        if c > 5:\n",
    "            return preds,true\n",
    "        c += 1\n",
    "        word_masked, char_masked, unmasked, mask_indices = example\n",
    "\n",
    "    #mask_indices will contain all the indices of mask tokens, the number of mask tokens in a sentence is the number of preds we need to make\n",
    "        for i in mask_indices:\n",
    "            #get all candidate words for this word\n",
    "            candidates = lm.find_candidates(char_masked[i])\n",
    "\n",
    "            if len(candidates):\n",
    "                lowest_perplexity = 10000000000 #dumb but idc\n",
    "                pred = candidates[0] #just init to first one\n",
    "\n",
    "                for candidate in candidates:\n",
    "                    #fill in mask token with possible word\n",
    "                    sentence = word_masked\n",
    "                    sentence[i] = candidate\n",
    "                    sentence = ' '.join(sentence)\n",
    "\n",
    "                    #get pseudo perplexity\n",
    "                    score = perp_score(model, device,  tokenizer, sentence)\n",
    "\n",
    "                    #keep track of best guess\n",
    "                    if score < lowest_perplexity:\n",
    "                        lowest_perplexity = score\n",
    "                        pred = candidate\n",
    "                #add best guess to preds      \n",
    "                preds.append(pred)\n",
    "                true.append(unmasked[i])\n",
    "            else:\n",
    "                #dont think this should ever execute, there should always be at least one candidate\n",
    "                #otherwise something weird is going on\n",
    "                raise Exception(f\"No candidates found for {char_masked[i]}\")\n",
    "    \n",
    "    return preds, true\n",
    "\n",
    "\n",
    "\n",
    "\n",
    "\n",
    "\n"
   ]
  },
  {
   "cell_type": "code",
   "execution_count": 24,
   "metadata": {},
   "outputs": [
    {
     "data": {
      "text/plain": [
       "(['the',\n",
       "  'game',\n",
       "  'began',\n",
       "  'development',\n",
       "  'in',\n",
       "  '<year>',\n",
       "  '[MASK]',\n",
       "  'over',\n",
       "  'a',\n",
       "  'large',\n",
       "  '[MASK]',\n",
       "  'of',\n",
       "  'the',\n",
       "  'work',\n",
       "  'done',\n",
       "  'on',\n",
       "  'valkyria',\n",
       "  'chronicles',\n",
       "  'ii'],\n",
       " ['the',\n",
       "  'game',\n",
       "  'began',\n",
       "  'development',\n",
       "  'in',\n",
       "  '<year>',\n",
       "  'carryi¿g',\n",
       "  'over',\n",
       "  'a',\n",
       "  'large',\n",
       "  'porti¿n',\n",
       "  'of',\n",
       "  'the',\n",
       "  'work',\n",
       "  'done',\n",
       "  'on',\n",
       "  'valkyria',\n",
       "  'chronicles',\n",
       "  'ii'],\n",
       " ['the',\n",
       "  'game',\n",
       "  'began',\n",
       "  'development',\n",
       "  'in',\n",
       "  '<year>',\n",
       "  'carrying',\n",
       "  'over',\n",
       "  'a',\n",
       "  'large',\n",
       "  'portion',\n",
       "  'of',\n",
       "  'the',\n",
       "  'work',\n",
       "  'done',\n",
       "  'on',\n",
       "  'valkyria',\n",
       "  'chronicles',\n",
       "  'ii'],\n",
       " [6, 10])"
      ]
     },
     "execution_count": 24,
     "metadata": {},
     "output_type": "execute_result"
    }
   ],
   "source": [
    "dataset[4]"
   ]
  },
  {
   "cell_type": "code",
   "execution_count": 42,
   "metadata": {},
   "outputs": [
    {
     "data": {
      "text/plain": [
       "(['commonly',\n",
       "  'chronicles',\n",
       "  'outside',\n",
       "  'japan',\n",
       "  'it',\n",
       "  'employing',\n",
       "  'go',\n",
       "  'first',\n",
       "  'toe',\n",
       "  'unit',\n",
       "  'operations',\n",
       "  'against',\n",
       "  'carrying',\n",
       "  'portion',\n",
       "  'the',\n",
       "  'the',\n",
       "  'newcomers'],\n",
       " ['commonly',\n",
       "  'chronicles',\n",
       "  'outside',\n",
       "  'japan',\n",
       "  'it',\n",
       "  'employing',\n",
       "  'to',\n",
       "  'first',\n",
       "  'the',\n",
       "  'unit',\n",
       "  'operations',\n",
       "  'against',\n",
       "  'carrying',\n",
       "  'portion',\n",
       "  'the',\n",
       "  'the',\n",
       "  'newcomers'])"
      ]
     },
     "execution_count": 42,
     "metadata": {},
     "output_type": "execute_result"
    }
   ],
   "source": [
    "predict(bert, tokenizer, lm, dataset)"
   ]
  }
 ],
 "metadata": {
  "kernelspec": {
   "display_name": "pytorchCUDA",
   "language": "python",
   "name": "python3"
  },
  "language_info": {
   "codemirror_mode": {
    "name": "ipython",
    "version": 3
   },
   "file_extension": ".py",
   "mimetype": "text/x-python",
   "name": "python",
   "nbconvert_exporter": "python",
   "pygments_lexer": "ipython3",
   "version": "3.10.13"
  }
 },
 "nbformat": 4,
 "nbformat_minor": 2
}
